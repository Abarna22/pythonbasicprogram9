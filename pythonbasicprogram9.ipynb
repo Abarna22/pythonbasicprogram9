{
 "cells": [
  {
   "cell_type": "code",
   "execution_count": 4,
   "id": "57896279",
   "metadata": {},
   "outputs": [
    {
     "name": "stdout",
     "output_type": "stream",
     "text": [
      "List of happy numbers between 1 and 100: \n",
      "1\n",
      " \n",
      "7\n",
      " \n",
      "10\n",
      " \n",
      "13\n",
      " \n",
      "19\n",
      " \n",
      "23\n",
      " \n",
      "28\n",
      " \n",
      "31\n",
      " \n",
      "32\n",
      " \n",
      "44\n",
      " \n",
      "49\n",
      " \n",
      "68\n",
      " \n",
      "70\n",
      " \n",
      "79\n",
      " \n",
      "82\n",
      " \n",
      "86\n",
      " \n",
      "91\n",
      " \n",
      "94\n",
      " \n",
      "97\n",
      " \n",
      "100\n",
      " \n"
     ]
    }
   ],
   "source": [
    "\"\"\"4. Write a Python program to print all happy numbers between 1 and 100?\n",
    "Ans\"\"\"\n",
    "\n",
    "def isHappyNumber(num):\n",
    "    rem = sum = 0;\n",
    "    while(num > 0):\n",
    "        rem = num%10;\n",
    "        sum = sum + (rem*rem);\n",
    "        num = num//10;\n",
    "    return sum;\n",
    "print(\"List of happy numbers between 1 and 100: \")\n",
    "for i in range(1, 101):\n",
    "    result = i\n",
    "    while(result != 1 and result != 4):\n",
    "        result = isHappyNumber(result);\n",
    "    if(result == 1):\n",
    "        print(i)\n",
    "        print(\" \")"
   ]
  },
  {
   "cell_type": "code",
   "execution_count": 5,
   "id": "51d96180",
   "metadata": {},
   "outputs": [
    {
     "name": "stdout",
     "output_type": "stream",
     "text": [
      "enter the number:98\n",
      "not a Disarium Number\n"
     ]
    }
   ],
   "source": [
    "\"\"\"1. Write a Python program to check if the given number is a Disarium Number?\n",
    "Ans\"\"\"\n",
    "\n",
    "num=int(input(\"enter the number:\"))\n",
    "count=len(str(num))\n",
    "temp=num\n",
    "s = 0\n",
    "rem = 0\n",
    "while(temp>0):\n",
    "    rem=temp%10\n",
    "    x= rem**count\n",
    "    s = s+x\n",
    "    temp=temp//10\n",
    "    count=count-1\n",
    "if(s==num):\n",
    "    print(\"Disarium Number\")\n",
    "else:\n",
    "    print(\"not a Disarium Number\")"
   ]
  },
  {
   "cell_type": "code",
   "execution_count": 6,
   "id": "ab04a58d",
   "metadata": {},
   "outputs": [
    {
     "name": "stdout",
     "output_type": "stream",
     "text": [
      "1\n",
      "2\n",
      "3\n",
      "4\n",
      "5\n",
      "6\n",
      "7\n",
      "8\n",
      "9\n",
      "89\n"
     ]
    }
   ],
   "source": [
    "\"\"\"2. Write a Python program to print all disarium numbers between 1 to 100?\n",
    "Ans\"\"\"\n",
    "for i in range(1,101):\n",
    "    count=len(str(i))\n",
    "    temp=i\n",
    "    s=0\n",
    "    rem=0\n",
    "    while(temp>0):\n",
    "        rem=temp%10\n",
    "        x= rem**count\n",
    "        s = s+x\n",
    "        temp=temp//10\n",
    "        count=count-1\n",
    "    if(s==i):\n",
    "        print(s)\n",
    "        "
   ]
  },
  {
   "cell_type": "code",
   "execution_count": 7,
   "id": "22c5db72",
   "metadata": {},
   "outputs": [
    {
     "name": "stdout",
     "output_type": "stream",
     "text": [
      "Enter the number:31\n",
      "happy number\n"
     ]
    }
   ],
   "source": [
    "\"\"\"3. Write a Python program to check if the given number is Happy Number?\n",
    "Ans\"\"\"\n",
    "\n",
    "num=int(input(\"Enter the number:\"))\n",
    "s=0\n",
    "while s != 1 and s != 4: \n",
    "    s=0\n",
    "    r=0\n",
    "    while(num>0):\n",
    "        r=num%10\n",
    "        s=s+(r*r)\n",
    "        num=num//10\n",
    "    num=s\n",
    "    \n",
    "if(s==1):\n",
    "    print(\"happy number\")\n",
    "else:\n",
    "    print(\"not a happy number\")\n",
    "\n"
   ]
  },
  {
   "cell_type": "code",
   "execution_count": 16,
   "id": "cc196d8a",
   "metadata": {},
   "outputs": [
    {
     "name": "stdout",
     "output_type": "stream",
     "text": [
      "Enter the number:15\n",
      "not a Harshad Number\n"
     ]
    }
   ],
   "source": [
    "\"\"\"5. Write a Python program to determine whether the given number is a Harshad Number?\n",
    "Ans\"\"\"\n",
    "num=int(input(\"Enter the number:\"))\n",
    "t=num\n",
    "r=s=0\n",
    "while(t>0):\n",
    "    r=t%10\n",
    "    s=s+r\n",
    "    t=t//10\n",
    "x=num%s\n",
    "if x==0:\n",
    "    print(\"Harshad Number\")\n",
    "else:\n",
    "    print(\"not a Harshad Number\")"
   ]
  },
  {
   "cell_type": "code",
   "execution_count": 18,
   "id": "29dbdad9",
   "metadata": {},
   "outputs": [
    {
     "name": "stdout",
     "output_type": "stream",
     "text": [
      "2\n",
      "6\n",
      "12\n",
      "20\n",
      "30\n",
      "42\n",
      "56\n",
      "72\n",
      "90\n"
     ]
    }
   ],
   "source": [
    "\"\"\"6. Write a Python program to print all pronic numbers between 1 and 100?\n",
    "Ans\"\"\"\n",
    "for i in range(1,101):\n",
    "    f=0\n",
    "    for j in range(i):\n",
    "        if (j*(j+1) ==i):\n",
    "            f=1\n",
    "            break\n",
    "    if f==1:\n",
    "        print(i)\n",
    "    \n"
   ]
  },
  {
   "cell_type": "code",
   "execution_count": null,
   "id": "a9fa4dfc",
   "metadata": {},
   "outputs": [],
   "source": []
  }
 ],
 "metadata": {
  "kernelspec": {
   "display_name": "Python 3",
   "language": "python",
   "name": "python3"
  },
  "language_info": {
   "codemirror_mode": {
    "name": "ipython",
    "version": 3
   },
   "file_extension": ".py",
   "mimetype": "text/x-python",
   "name": "python",
   "nbconvert_exporter": "python",
   "pygments_lexer": "ipython3",
   "version": "3.8.8"
  }
 },
 "nbformat": 4,
 "nbformat_minor": 5
}
